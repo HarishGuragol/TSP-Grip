{
  "nbformat": 4,
  "nbformat_minor": 0,
  "metadata": {
    "colab": {
      "name": "Task-1 - GRIP Supervised ML",
      "private_outputs": true,
      "provenance": []
    },
    "kernelspec": {
      "name": "python3",
      "display_name": "Python 3"
    }
  },
  "cells": [
    {
      "cell_type": "markdown",
      "metadata": {
        "id": "3Z1eO3O5_JRX"
      },
      "source": [
        "# **HARISH KUMAR S GURAGOL**"
      ]
    },
    {
      "cell_type": "markdown",
      "metadata": {
        "id": "ry1vOADw_SJg"
      },
      "source": [
        "## **Task 1: Prediction using Supervised ML**"
      ]
    },
    {
      "cell_type": "markdown",
      "metadata": {
        "id": "tAlRDIay_WMI"
      },
      "source": [
        "### **Predict the percentage of an student based on the no. of study hours**"
      ]
    },
    {
      "cell_type": "code",
      "metadata": {
        "id": "x52GKaJE8kdO"
      },
      "source": [
        "import pandas as pd\r\n",
        "import seaborn as sns \r\n",
        "data = pd.read_csv('http://bit.ly/w-data')\r\n",
        "data.head()"
      ],
      "execution_count": null,
      "outputs": []
    },
    {
      "cell_type": "code",
      "metadata": {
        "id": "Hd2tsGVg8ktn"
      },
      "source": [
        "import matplotlib.pyplot as plot\r\n",
        "data.plot (x = 'Hours',y = 'Scores',style = 'o')\r\n",
        "plot.title('Hours vs score')\r\n",
        "plot.xlabel('Hours')\r\n",
        "plot.ylabel('score')\r\n",
        "plot.show()"
      ],
      "execution_count": null,
      "outputs": []
    },
    {
      "cell_type": "code",
      "metadata": {
        "id": "YdKQ_hHp8k6h"
      },
      "source": [
        "from sklearn.model_selection import train_test_split\r\n",
        "X = data.iloc[:,:-1].values\r\n",
        "y = data.iloc[:,1].values\r\n",
        "X_train  ,X_test , y_train, y_test = train_test_split(X,y,test_size =0.2,random_state = 0)\r\n",
        "print ('Training/testing data ready!!')"
      ],
      "execution_count": null,
      "outputs": []
    },
    {
      "cell_type": "code",
      "metadata": {
        "id": "vmdNxrGB82hb"
      },
      "source": [
        "from sklearn.linear_model import LinearRegression\r\n",
        "model = LinearRegression()\r\n",
        "model.fit(X_train,y_train)\r\n",
        "print ('model trained')"
      ],
      "execution_count": null,
      "outputs": []
    },
    {
      "cell_type": "code",
      "metadata": {
        "id": "nnSRBwJX82p1"
      },
      "source": [
        "#prediction using the test set\r\n",
        "yhat  = model.predict(X_test)\r\n"
      ],
      "execution_count": null,
      "outputs": []
    },
    {
      "cell_type": "code",
      "metadata": {
        "id": "uJ083kNE88uW"
      },
      "source": [
        "df = pd.DataFrame({'Actual': y_test, 'Predicted': yhat},)  \r\n",
        "df "
      ],
      "execution_count": null,
      "outputs": []
    },
    {
      "cell_type": "code",
      "metadata": {
        "id": "dXwvDFTf8_PZ"
      },
      "source": [
        "line = model.coef_*X + model.intercept_\r\n",
        "#ploting the regression line\r\n",
        "plot.scatter(X,y)\r\n",
        "plot.plot(X,line)\r\n",
        "plot.show()"
      ],
      "execution_count": null,
      "outputs": []
    },
    {
      "cell_type": "code",
      "metadata": {
        "id": "KCMTYotC8_To"
      },
      "source": [
        "#scoring the model using mean square\\\r\n",
        "from sklearn.metrics import mean_absolute_error\r\n",
        "mse = mean_absolute_error(y_test,yhat)\r\n",
        "mse"
      ],
      "execution_count": null,
      "outputs": []
    },
    {
      "cell_type": "code",
      "metadata": {
        "id": "I6Uiqg-U8_ZW"
      },
      "source": [
        "#making own prediction\r\n",
        "import numpy as np\r\n",
        "hours = [[9.25]]\r\n",
        "score = model.predict(hours)\r\n",
        "print('This is your predicted score : '+ str(score[0]))"
      ],
      "execution_count": null,
      "outputs": []
    }
  ]
}